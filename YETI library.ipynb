{
 "cells": [
  {
   "cell_type": "code",
   "execution_count": 3,
   "metadata": {},
   "outputs": [],
   "source": [
    "import os\n",
    "import pandas as pd\n",
    "import numpy as np\n",
    "from matplotlib import pyplot as plt"
   ]
  },
  {
   "cell_type": "markdown",
   "metadata": {},
   "source": [
    "# Notebook associated with storing and handling the YETI library "
   ]
  },
  {
   "cell_type": "code",
   "execution_count": 6,
   "metadata": {},
   "outputs": [
    {
     "data": {
      "text/html": [
       "<div>\n",
       "<style scoped>\n",
       "    .dataframe tbody tr th:only-of-type {\n",
       "        vertical-align: middle;\n",
       "    }\n",
       "\n",
       "    .dataframe tbody tr th {\n",
       "        vertical-align: top;\n",
       "    }\n",
       "\n",
       "    .dataframe thead th {\n",
       "        text-align: right;\n",
       "    }\n",
       "</style>\n",
       "<table border=\"1\" class=\"dataframe\">\n",
       "  <thead>\n",
       "    <tr style=\"text-align: right;\">\n",
       "      <th></th>\n",
       "      <th>Plate</th>\n",
       "      <th>Row</th>\n",
       "      <th>Column</th>\n",
       "      <th>ORF</th>\n",
       "      <th>Gene</th>\n",
       "      <th>Description</th>\n",
       "      <th>GO Biological Process</th>\n",
       "      <th>GO Molecular Function</th>\n",
       "      <th>GO Cellular Component</th>\n",
       "    </tr>\n",
       "  </thead>\n",
       "  <tbody>\n",
       "    <tr>\n",
       "      <th>0</th>\n",
       "      <td>P01</td>\n",
       "      <td>1</td>\n",
       "      <td>2</td>\n",
       "      <td>YBL016W</td>\n",
       "      <td>FUS3</td>\n",
       "      <td>P02</td>\n",
       "      <td>A</td>\n",
       "      <td>1</td>\n",
       "      <td>CGCTAGTAACAT</td>\n",
       "    </tr>\n",
       "    <tr>\n",
       "      <th>1</th>\n",
       "      <td>P01</td>\n",
       "      <td>1</td>\n",
       "      <td>3</td>\n",
       "      <td>YAL005C</td>\n",
       "      <td>SSA1</td>\n",
       "      <td>P01</td>\n",
       "      <td>A</td>\n",
       "      <td>2</td>\n",
       "      <td>TACCGCTTTGTC</td>\n",
       "    </tr>\n",
       "    <tr>\n",
       "      <th>2</th>\n",
       "      <td>P01</td>\n",
       "      <td>1</td>\n",
       "      <td>4</td>\n",
       "      <td>YBL017C</td>\n",
       "      <td>PEP1</td>\n",
       "      <td>P02</td>\n",
       "      <td>A</td>\n",
       "      <td>2</td>\n",
       "      <td>CGGAATTACCAC</td>\n",
       "    </tr>\n",
       "    <tr>\n",
       "      <th>3</th>\n",
       "      <td>P01</td>\n",
       "      <td>1</td>\n",
       "      <td>5</td>\n",
       "      <td>YAL007C</td>\n",
       "      <td>ERP2</td>\n",
       "      <td>P01</td>\n",
       "      <td>A</td>\n",
       "      <td>3</td>\n",
       "      <td>AGCTTGATTACC</td>\n",
       "    </tr>\n",
       "    <tr>\n",
       "      <th>4</th>\n",
       "      <td>P01</td>\n",
       "      <td>1</td>\n",
       "      <td>6</td>\n",
       "      <td>YBL019W</td>\n",
       "      <td>APN2</td>\n",
       "      <td>P02</td>\n",
       "      <td>A</td>\n",
       "      <td>3</td>\n",
       "      <td>GGAACTAAAGAG</td>\n",
       "    </tr>\n",
       "  </tbody>\n",
       "</table>\n",
       "</div>"
      ],
      "text/plain": [
       "  Plate  Row  Column      ORF  Gene Description GO Biological Process  \\\n",
       "0   P01    1       2  YBL016W  FUS3         P02                     A   \n",
       "1   P01    1       3  YAL005C  SSA1         P01                     A   \n",
       "2   P01    1       4  YBL017C  PEP1         P02                     A   \n",
       "3   P01    1       5  YAL007C  ERP2         P01                     A   \n",
       "4   P01    1       6  YBL019W  APN2         P02                     A   \n",
       "\n",
       "   GO Molecular Function GO Cellular Component  \n",
       "0                      1          CGCTAGTAACAT  \n",
       "1                      2          TACCGCTTTGTC  \n",
       "2                      2          CGGAATTACCAC  \n",
       "3                      3          AGCTTGATTACC  \n",
       "4                      3          GGAACTAAAGAG  "
      ]
     },
     "execution_count": 6,
     "metadata": {},
     "output_type": "execute_result"
    }
   ],
   "source": [
    "table_path='/Users/paucac/Documents/PhD/CAB/YETI/'\n",
    "col_names=['Plate', 'Row','Column','ORF','Gene','Description','GO Biological Process','GO Molecular Function','GO Cellular Component','96-position']\n",
    "Data = pd.read_csv(table_path+ 'Estradiol-Inducible Library_384 Format_Non-Ess Hap(Mat a).csv', delimiter=';', names=col_names, skiprows=2)\n",
    "Data = Data.drop('96-position', 1)\n",
    "Data.head()"
   ]
  },
  {
   "cell_type": "code",
   "execution_count": 7,
   "metadata": {},
   "outputs": [
    {
     "data": {
      "text/plain": [
       "5183"
      ]
     },
     "execution_count": 7,
     "metadata": {},
     "output_type": "execute_result"
    }
   ],
   "source": [
    "#when replicating the YETI library, 96well-plates were arranged in the following configuration:\n",
    "#    Red:plateA    Blue:plateB\n",
    "#.   Yellow: PlateC Green:plateD"
   ]
  },
  {
   "cell_type": "code",
   "execution_count": 14,
   "metadata": {},
   "outputs": [
    {
     "data": {
      "text/plain": [
       "1290.24"
      ]
     },
     "execution_count": 14,
     "metadata": {},
     "output_type": "execute_result"
    }
   ],
   "source": [
    "0.120*96*14*4*2\n"
   ]
  }
 ],
 "metadata": {
  "kernelspec": {
   "display_name": "DNAEnv",
   "language": "python",
   "name": "dnaenv"
  },
  "language_info": {
   "codemirror_mode": {
    "name": "ipython",
    "version": 3
   },
   "file_extension": ".py",
   "mimetype": "text/x-python",
   "name": "python",
   "nbconvert_exporter": "python",
   "pygments_lexer": "ipython3",
   "version": "3.7.6"
  }
 },
 "nbformat": 4,
 "nbformat_minor": 2
}
