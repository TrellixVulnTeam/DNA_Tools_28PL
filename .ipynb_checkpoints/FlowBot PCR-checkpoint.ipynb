{
 "cells": [
  {
   "cell_type": "code",
   "execution_count": 355,
   "metadata": {},
   "outputs": [],
   "source": [
    "import pandas as pd\n",
    "import numpy as np\n",
    "import os\n",
    "import time\n",
    "from matplotlib import pyplot as plt\n",
    "import DNA_tools as dt\n",
    "import importlib"
   ]
  },
  {
   "cell_type": "code",
   "execution_count": 358,
   "metadata": {},
   "outputs": [
    {
     "data": {
      "text/plain": [
       "<module 'DNA_tools' from '/Users/paucac/Documents/PhD/CAB/CRISPA/DNA_Tools/DNA_tools.py'>"
      ]
     },
     "execution_count": 358,
     "metadata": {},
     "output_type": "execute_result"
    }
   ],
   "source": [
    "importlib.reload(dt)\n"
   ]
  },
  {
   "cell_type": "code",
   "execution_count": 391,
   "metadata": {},
   "outputs": [],
   "source": [
    "reactions=pd.read_csv('USER_BTX_test.csv', sep=';')\n",
    "bank = pd.read_csv('BTX_User108_180.csv', sep=';')\n",
    "bank=bank.iloc[0:9,1:13]\n",
    "\n",
    "Positions={ 'tips':'5', 'reageants':'6', 'bank':'9', 'target':'10' }\n",
    "Component_Names ={'tips':'Sartorius Tips (0.5-200uL)',\n",
    "                  'reageants':'24-Well plate',\n",
    "                  'bank':'96-Well plate',\n",
    "                  'target':'96-Well plate' }\n",
    "Alphabet ={1:'A',2:'B',3:'C',4:'D',5:'E',6:'F',7:'G',8:'H'}"
   ]
  },
  {
   "cell_type": "code",
   "execution_count": 394,
   "metadata": {},
   "outputs": [],
   "source": [
    "#will create a reagent plate\n",
    "reagents=np.zeros([4,6]).astype(object)\n",
    "#specifies destination plate (the fruit of your hard work)\n",
    "fruit=np.zeros((8*12)).astype(object)\n",
    "fruit[0:len(reactions)]=reactions.Tube_label.values\n",
    "\n",
    "fruit =fruit.reshape(12,8).T\n"
   ]
  },
  {
   "cell_type": "code",
   "execution_count": null,
   "metadata": {},
   "outputs": [],
   "source": []
  },
  {
   "cell_type": "code",
   "execution_count": 383,
   "metadata": {},
   "outputs": [
    {
     "name": "stdout",
     "output_type": "stream",
     "text": [
      "vol Polymerase:  675 ul, vol MQ:  540 ul\n"
     ]
    }
   ],
   "source": [
    "Source = []\n",
    "Target = []\n",
    "Volume = []\n",
    "Polymerase = 0\n",
    "MQ = 0\n",
    "Tips = 0\n",
    "Reuse_Tips =[]\n",
    "sameTips = []\n",
    "\n",
    "\n",
    "#Pipette Water and Polymerase mixed together:\n",
    "#we assume Polymerase and MQ are mixed together in 24well plate with 2mL filled wells\n",
    "for gene in reactions.Tube_label:\n",
    "    # starts from r1c1 and jumps to r1c2...n when crossing 2000uL\n",
    "    sR = 1\n",
    "    sC = int((Polymerase+MQ)/2000) +1\n",
    "\n",
    "    source = Positions['reageants']  + ':' + Alphabet[sR] + str(sC)\n",
    "    volume = str(25+20) #uL\n",
    "    \n",
    "    #target\n",
    "    tR = np.where(fruit==gene)[0][0] +1\n",
    "    tC = np.where(fruit==gene)[1][0] +1\n",
    "    target = Positions['target'] + ':' + Alphabet[tR] + str(tC)\n",
    "    \n",
    "    Target.append(target)\n",
    "    Volume.append(volume)\n",
    "    Source.append(source)\n",
    "    Polymerase += 25\n",
    "    MQ += 20\n",
    "    Reuse_Tips.append('True')\n",
    "    sameTips.append('True')\n",
    "\n",
    "        #record how to prepare the reagents plate\n",
    "    reagents[sR-1,sC-1] = 'Pol:'+str(Polymerase)+ ',MQ:'+str(MQ)\n",
    "\n",
    "#Pipette the primers:\n",
    "for gene in reactions.Tube_label:\n",
    "\n",
    "    #target\n",
    "    tR = np.where(fruit==gene)[0][0] +1\n",
    "    tC = np.where(fruit==gene)[1][0] +1\n",
    "    \n",
    "    #source\n",
    "    igene=reactions['Tube_label']==gene\n",
    "    for primer in ['Fw', 'Rv']:\n",
    "        primer = reactions[igene][primer].values[0]\n",
    "\n",
    "        sR = np.where(bank == primer)[0][0] +1\n",
    "        sC = np.where(bank == primer)[1][0] +1\n",
    "        source = Positions['bank'] + ':' + Alphabet[sR] + str(sC)\n",
    "        target = Positions['target'] + ':' + Alphabet[tR] + str(tC)\n",
    "        Source.append(source)\n",
    "        Target.append(target)\n",
    "        Volume.append('2')\n",
    "        Reuse_Tips.append('False')\n",
    "        sameTips.append('False')\n",
    "        Tips +=1\n",
    "print('vol Polymerase: ', Polymerase, 'ul, vol MQ: ', MQ ,'ul')"
   ]
  },
  {
   "cell_type": "code",
   "execution_count": 384,
   "metadata": {},
   "outputs": [],
   "source": [
    "#write Moves DF\n",
    "Moves =pd.DataFrame(data=np.vstack([Source, Target, Volume, Reuse_Tips]).T,\n",
    "                    columns=['source', 'target', 'volume','reuseTips'])\n",
    "\n",
    "#adds default/options\n",
    "Moves['type'] = 'pipetting'\n",
    "Moves['pipette'] = '1-Channel 200uL (Sartorius)'\n",
    "Moves['tipType'] = 'Sartorius Tips (0.5-200uL)'\n",
    "\n",
    "\n",
    "Moves['bottomTouch'] = 'TRUE'\n",
    "Moves['liquidLevelDetection'] = 'TRUE'\n",
    "Moves['bottomTouch'] = 'TRUE'"
   ]
  },
  {
   "cell_type": "code",
   "execution_count": 386,
   "metadata": {},
   "outputs": [
    {
     "data": {
      "image/png": "[encoded data removed]",
      "text/plain": [
       "<Figure size 720x360 with 12 Axes>"
      ]
     },
     "metadata": {
      "needs_background": "light"
     },
     "output_type": "display_data"
    }
   ],
   "source": [
    "\n",
    "#draw the setup \n",
    "fig, axs = plt.subplots(3,4, figsize=(10,5))\n",
    "axs = axs.flatten()\n",
    "\n",
    "#get rid of the axes\n",
    "[A.xaxis.set_visible(False) for A in axs]\n",
    "[A.yaxis.set_visible(False) for A in axs]\n",
    "#color area\n",
    "[A.set_facecolor((0.5,0.5,0.5 )) for A in axs]\n",
    "\n",
    "\n",
    "for what, where in Positions.items():\n",
    "    where = int(where)\n",
    "    axs[where-1].annotate(str(where) + ': ' +what , (0.25,0.5),rotation=0)\n",
    "    axs[where-1].set_facecolor(\"cyan\") \n",
    "plt.show()\n",
    "\n"
   ]
  },
  {
   "cell_type": "code",
   "execution_count": 387,
   "metadata": {},
   "outputs": [],
   "source": [
    "#save make the csv file of the setup\n",
    "Positions_df = pd.DataFrame()\n",
    "Positions_df['pos'] = [p for p in Positions.values()]\n",
    "Positions_df['component'] = [Component_Names[C] for C in Positions.keys()]\n"
   ]
  },
  {
   "cell_type": "code",
   "execution_count": 388,
   "metadata": {},
   "outputs": [],
   "source": [
    "\n",
    "\n",
    "time_stamp = time.strftime(\"%Y-%m-%d %H:%M\")\n",
    "Moves.to_csv('Moves'+ '2del'+'.csv', sep=',', index=0) #\n",
    "Positions_df.to_csv('setup'+ '2del'+'.csv', sep=',', index=0) #"
   ]
  },
  {
   "cell_type": "code",
   "execution_count": 381,
   "metadata": {},
   "outputs": [
    {
     "name": "stdout",
     "output_type": "stream",
     "text": [
      "[['CAX4.up' 'PDX3.up' 'PRY1.up' 'STV1.up' 0.0 0.0 0.0 0.0 0.0 0.0 0.0 0.0]\n",
      " ['CAX4.dw' 'PDX3.dw' 'PRY1.dw' 'STV1.dw' 0.0 0.0 0.0 0.0 0.0 0.0 0.0 0.0]\n",
      " ['GLR1.up' 'PRO2.up' 'GET4.up' 'pTEF::KanMX::tTef' 0.0 0.0 0.0 0.0 0.0\n",
      "  0.0 0.0 0.0]\n",
      " ['GLR1.dw' 'PRO2.dw' 'GET4.dw' 0.0 0.0 0.0 0.0 0.0 0.0 0.0 0.0 0.0]\n",
      " ['HEM25.up' 'VMA16.up' 'CMG1.up' 0.0 0.0 0.0 0.0 0.0 0.0 0.0 0.0 0.0]\n",
      " ['HEM25.dw' 'VMA16.dw' 'CMG1.dw' 0.0 0.0 0.0 0.0 0.0 0.0 0.0 0.0 0.0]\n",
      " ['KGD2.up' 'YSY6.up' 'YCR101C.up' 0.0 0.0 0.0 0.0 0.0 0.0 0.0 0.0 0.0]\n",
      " ['KGD2.dw' 'YSY6.dw' 'YCR101C.dw' 0.0 0.0 0.0 0.0 0.0 0.0 0.0 0.0 0.0]]\n"
     ]
    }
   ],
   "source": [
    "print(fruit)"
   ]
  },
  {
   "cell_type": "code",
   "execution_count": 367,
   "metadata": {
    "scrolled": true
   },
   "outputs": [
    {
     "data": {
      "image/png": "[encoded data removed]",
      "text/plain": [
       "<Figure size 1080x360 with 1 Axes>"
      ]
     },
     "metadata": {
      "needs_background": "light"
     },
     "output_type": "display_data"
    }
   ],
   "source": [
    "\n",
    "#Draws the expected gel:\n",
    "\n",
    "ladder_1kb =        [10,8,6,5,4,3,2,1.5,1,0.5]\n",
    "#parse sizes from reactions df\n",
    "sizes=[float(S.replace('kb','')) for S in reactions['Size']]\n",
    "names = [N for N in reactions['Tube_label']]\n",
    "\n",
    "dt.run_gel(sizes, ladder_1kb, names )"
   ]
  },
  {
   "cell_type": "code",
   "execution_count": 368,
   "metadata": {},
   "outputs": [
    {
     "data": {
      "text/plain": [
       "array([['Pol:675,MQ:540', 0.0, 0.0, 0.0, 0.0, 0.0],\n",
       "       [0.0, 0.0, 0.0, 0.0, 0.0, 0.0],\n",
       "       [0.0, 0.0, 0.0, 0.0, 0.0, 0.0],\n",
       "       [0.0, 0.0, 0.0, 0.0, 0.0, 0.0]], dtype=object)"
      ]
     },
     "execution_count": 368,
     "metadata": {},
     "output_type": "execute_result"
    }
   ],
   "source": [
    "reagents"
   ]
  },
  {
   "cell_type": "code",
   "execution_count": 264,
   "metadata": {},
   "outputs": [
    {
     "data": {
      "text/plain": [
       "{'tips': '5', 'reageants': '6', 'bank': '9', 'target': '10'}"
      ]
     },
     "execution_count": 264,
     "metadata": {},
     "output_type": "execute_result"
    }
   ],
   "source": [
    "Positions"
   ]
  }
 ],
 "metadata": {
  "kernelspec": {
   "display_name": "DNAEnv",
   "language": "python",
   "name": "dnaenv"
  },
  "language_info": {
   "codemirror_mode": {
    "name": "ipython",
    "version": 3
   },
   "file_extension": ".py",
   "mimetype": "text/x-python",
   "name": "python",
   "nbconvert_exporter": "python",
   "pygments_lexer": "ipython3",
   "version": "3.7.6"
  }
 },
 "nbformat": 4,
 "nbformat_minor": 2
}
